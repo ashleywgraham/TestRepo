{
  "metadata": {
    "kernelspec": {
      "name": "python",
      "display_name": "Python (Pyodide)",
      "language": "python"
    },
    "language_info": {
      "codemirror_mode": {
        "name": "python",
        "version": 3
      },
      "file_extension": ".py",
      "mimetype": "text/x-python",
      "name": "python",
      "nbconvert_exporter": "python",
      "pygments_lexer": "ipython3",
      "version": "3.8"
    }
  },
  "nbformat_minor": 4,
  "nbformat": 4,
  "cells": [
    {
      "cell_type": "markdown",
      "source": "# Data Science Tools and Ecosystem",
      "metadata": {}
    },
    {
      "cell_type": "markdown",
      "source": "## In this notebook, Data Science Tools and Ecosystem are summarized. ",
      "metadata": {}
    },
    {
      "cell_type": "markdown",
      "source": "# Objectives:\n## This is my intro sentence, below I was asked to create a list of objectives for the assignment. \n- Create a table\n- create markdown cells\n- Create arithmetic sequences",
      "metadata": {}
    },
    {
      "cell_type": "markdown",
      "source": "## Some of the popular languages that Data Scientists use are :\n\n1. SAS\n2. TensorFlow\n3. Python",
      "metadata": {}
    },
    {
      "cell_type": "markdown",
      "source": "## Some of the commonly used libraries used by Data Scientists include:\n### Below is an introduction to list the types of libraries used in Data Science. This is the introduction. \n1. Pandas\n2. Matplotlib\n3. PyTorch\n4. Theano",
      "metadata": {}
    },
    {
      "cell_type": "markdown",
      "source": "## Data Science Tool Table \n\n|Data Science Tools|\n|------------------|\n|pandas|\n|Seaborn|\n|SciKitLearn|",
      "metadata": {}
    },
    {
      "cell_type": "markdown",
      "source": "# Intro to arithmetic equations",
      "metadata": {}
    },
    {
      "cell_type": "code",
      "source": "(3*4)+5",
      "metadata": {
        "trusted": true
      },
      "outputs": [
        {
          "execution_count": 1,
          "output_type": "execute_result",
          "data": {
            "text/plain": "17"
          },
          "metadata": {}
        }
      ],
      "execution_count": 1
    },
    {
      "cell_type": "markdown",
      "source": "## This will convert 200 minutes to hours by dividing by  60",
      "metadata": {}
    },
    {
      "cell_type": "code",
      "source": "200 // 60",
      "metadata": {
        "trusted": true
      },
      "outputs": [
        {
          "execution_count": 8,
          "output_type": "execute_result",
          "data": {
            "text/plain": "3"
          },
          "metadata": {}
        }
      ],
      "execution_count": 8
    },
    {
      "cell_type": "markdown",
      "source": "## Author\nAshley Graham",
      "metadata": {}
    },
    {
      "cell_type": "code",
      "source": "",
      "metadata": {
        "trusted": true
      },
      "outputs": [],
      "execution_count": null
    }
  ]
}